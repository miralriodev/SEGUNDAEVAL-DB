{
 "cells": [
  {
   "cell_type": "markdown",
   "metadata": {},
   "source": [
    "# Análisis de Regresión Logística Mejorado\n\nEste notebook realiza un análisis exhaustivo de regresión logística sobre el dataset de cáncer de mama, siguiendo la estructura mejorada utilizada en los notebooks de Samsung y PCA."
   ]
  },
  {
   "cell_type": "code",
   "metadata": {},
   "source": [
    "## 1. Carga y exploración de datos\nimport pandas as pd\nimport numpy as np\nimport matplotlib.pyplot as plt\nimport seaborn as sns\nfrom sklearn.model_selection import train_test_split, GridSearchCV\nfrom sklearn.preprocessing import StandardScaler, MinMaxScaler, RobustScaler\nfrom sklearn.linear_model import LogisticRegression\nfrom sklearn.svm import SVC\nfrom sklearn.ensemble import RandomForestClassifier, GradientBoostingClassifier\nfrom sklearn.metrics import accuracy_score, precision_score, recall_score, f1_score, roc_auc_score, confusion_matrix, classification_report, roc_curve\nimport warnings\nwarnings.filterwarnings('ignore')\n\nplt.style.use('ggplot')\nsns.set(style=\"whitegrid\")\n\ndf = pd.read_csv('breast_cancer.csv')\ndf.head()\ndf.info()\ndf.describe()\ndf.isnull().sum()"
   ]
  },
  {
   "cell_type": "code",
   "metadata": {},
   "source": [
    "## 2. Análisis exploratorio de datos (EDA)\nplt.figure(figsize=(10,8))\nsns.heatmap(df.select_dtypes(include='number').corr(), annot=False, cmap='coolwarm')\nplt.title('Matriz de correlación')\nplt.show()\n\nfor col in df.select_dtypes(include='number').columns:\n    plt.figure(figsize=(6,4))\n    sns.histplot(df[col], kde=True)\n    plt.title(f'Distribución de {col}')\n    plt.show()\n\nsns.countplot(x='diagnosis', data=df)\nplt.title('Distribución de diagnóstico')\nplt.show()\n\nfor col in ['radius_mean','texture_mean','area_mean']:\n    sns.boxplot(x='diagnosis', y=col, data=df)\n    plt.title(f'Boxplot de {col} por diagnóstico')\n    plt.show()"
   ]
  },
  {
   "cell_type": "markdown",
   "metadata": {},
   "source": [
    "## 3. Justificación del algoritmo\n\nSe elige regresión logística por su interpretabilidad y eficacia en clasificación binaria. Se comparan SVM, Random Forest y Gradient Boosting para optimización y robustez."
   ]
  },
  {
   "cell_type": "code",
   "metadata": {},
   "source": [
    "## 4. Preparación de datos\ndf['diagnosis'] = df['diagnosis'].map({'M':1, 'B':0})\nX = df.drop(['id','diagnosis'], axis=1)\ny = df['diagnosis']\nscalers = [StandardScaler(), MinMaxScaler(), RobustScaler()]\nX_scaled = [scaler.fit_transform(X) for scaler in scalers]\n\nX_train, X_test, y_train, y_test = train_test_split(X, y, test_size=0.2, random_state=42, stratify=y)"
   ]
  },
  {
   "cell_type": "code",
   "metadata": {},
   "source": [
    "## 5. Diseño y entrenamiento de modelos\nmodels = {\n    'Logistic': LogisticRegression(max_iter=1000),\n    'SVM': SVC(probability=True),\n    'RandomForest': RandomForestClassifier(),\n    'GradientBoosting': GradientBoostingClassifier()\n}\nresults = {}\nfor name, model in models.items():\n    model.fit(X_train, y_train)\n    y_pred = model.predict(X_test)\n    y_proba = model.predict_proba(X_test)[:,1] if hasattr(model, 'predict_proba') else None\n    results[name] = {\n        'Accuracy': accuracy_score(y_test, y_pred),\n        'Precision': precision_score(y_test, y_pred),\n        'Recall': recall_score(y_test, y_pred),\n        'F1': f1_score(y_test, y_pred),\n        'ROC_AUC': roc_auc_score(y_test, y_proba) if y_proba is not None else None\n    }\n    print(f"\nModelo: {name}")\n    print(f"Accuracy: {results[name]['Accuracy']:.2f}")\n    print(f"Precision: {results[name]['Precision']:.2f}")\n    print(f"Recall: {results[name]['Recall']:.2f}")\n    print(f"F1: {results[name]['F1']:.2f}")\n    if results[name]['ROC_AUC'] is not None:\n        print(f"ROC_AUC: {results[name]['ROC_AUC']:.2f}")"
   ]
  },
  {
   "cell_type": "code",
   "metadata": {},
   "source": [
    "## 6. Visualización personalizada y análisis de resultados\nfor name, model in models.items():\n    y_pred = model.predict(X_test)\n    cm = confusion_matrix(y_test, y_pred)\n    plt.figure(figsize=(5,4))\n    sns.heatmap(cm, annot=True, fmt='d', cmap='Blues')\n    plt.title(f'Matriz de confusión - {name}')\n    plt.xlabel('Predicho')\n    plt.ylabel('Real')\n    plt.show()\n\n    if hasattr(model, 'predict_proba'):\n        y_proba = model.predict_proba(X_test)[:,1]\n        fpr, tpr, _ = roc_curve(y_test, y_proba)\n        plt.plot(fpr, tpr, label=f'{name}')\nplt.plot([0,1],[0,1],'r--')\nplt.xlabel('FPR')\nplt.ylabel('TPR')\nplt.title('Curvas ROC')\nplt.legend()\nplt.show()"
   ]
  },
  {
   "cell_type": "markdown",
   "metadata": {},
   "source": [
    "## 7. Interpretación y conclusiones\n\nLa regresión logística y los modelos comparados muestran alta precisión en la detección de cáncer de mama. Se recomienda el modelo más robusto y explicativo para diagnóstico clínico y apoyo a la toma de decisiones."
   ]
  }
 ],
 "metadata": {
  "kernelspec": {
   "display_name": "Python 3",
   "language": "python",
   "name": "python3"
  },
  "language_info": {
   "name": "python",
   "version": "3.8"
  }
 },
 "nbformat": 4,
 "nbformat_minor": 5
}
